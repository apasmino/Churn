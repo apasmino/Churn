{
 "cells": [
  {
   "cell_type": "markdown",
   "metadata": {},
   "source": [
    "# Creación modelo predictivo para la tasa de cancelación de clientes"
   ]
  },
  {
   "cell_type": "markdown",
   "metadata": {},
   "source": [
    "En SKC Maquinarias nos interesa medir la tasa de retención de clientes para el área de repuestos, pero como valor adicional se desarrolló un modelo predictivo el cual calcula cuál es la probabilidad que un cliente deje de comprar y cuanto se dejará de ganar por este concepto"
   ]
  },
  {
   "cell_type": "code",
   "execution_count": 10,
   "metadata": {
    "collapsed": true
   },
   "outputs": [],
   "source": [
    "#importamos las siguientes librerías\n",
    "import numpy as np\n",
    "import pandas as pd\n",
    "from datetime import datetime\n",
    "import matplotlib.pyplot as plt\n",
    "import matplotlib.patches as mpatches\n",
    "import seaborn as sns\n",
    "from sklearn.model_selection import cross_val_score, cross_val_predict, RandomizedSearchCV, ShuffleSplit\n",
    "from sklearn.linear_model import LogisticRegression\n",
    "from sklearn.tree import DecisionTreeClassifier\n",
    "from sklearn.metrics import classification_report, accuracy_score, make_scorer\n",
    "from sklearn.metrics import roc_curve, auc\n",
    "from sklearn.model_selection import KFold\n",
    "from sklearn.metrics import mean_squared_error\n",
    "from sklearn.ensemble import RandomForestClassifier\n",
    "from sklearn.svm import SVC\n",
    "from sklearn.model_selection import train_test_split, StratifiedKFold\n",
    "from sklearn.preprocessing import StandardScaler\n",
    "from sklearn.metrics import confusion_matrix\n",
    "from scipy import interp\n",
    "from matplotlib.pyplot import *"
   ]
  },
  {
   "cell_type": "markdown",
   "metadata": {},
   "source": [
    "## Entendiendo nuestro DataFrame"
   ]
  },
  {
   "cell_type": "markdown",
   "metadata": {},
   "source": [
    "Como primer paso Leemos el archivo con los datos, verificamos el tipo de dato de cada variable y visualizamos algunos estadísticas básicas del dataframe"
   ]
  },
  {
   "cell_type": "code",
   "execution_count": 11,
   "metadata": {
    "collapsed": true
   },
   "outputs": [],
   "source": [
    "#ruta del archivo con los datos\n",
    "ruta='C:\\Users\\alfredo\\Git\\Churn\\loans'"
   ]
  },
  {
   "cell_type": "code",
   "execution_count": 13,
   "metadata": {
    "collapsed": true
   },
   "outputs": [],
   "source": [
    "#nombre de las columnas\n",
    "columns_name=['pk', 'sociedad', 'sector', 'ofvta', 'cod_cliente', 'nombre', 'vendedor', 'clas_fiscal', 'pedido', 'material', 'marca', 'linea', 'linea_o', 'id_pedido', 'costo', 'gr_mat', 'fecha', 'fecha_2', 'ingreso', 'mesn', 'dia', 'mes', 'año', 'funica' ]"
   ]
  },
  {
   "cell_type": "code",
   "execution_count": 14,
   "metadata": {
    "collapsed": true
   },
   "outputs": [],
   "source": [
    "df=pd.read_csv(ruta+'/Query1.txt', sep=';', decimal=',', encoding = 'ISO-8859-1', names=columns_name, header=0)"
   ]
  },
  {
   "cell_type": "code",
   "execution_count": 15,
   "metadata": {},
   "outputs": [
    {
     "data": {
      "text/html": [
       "<div>\n",
       "<style>\n",
       "    .dataframe thead tr:only-child th {\n",
       "        text-align: right;\n",
       "    }\n",
       "\n",
       "    .dataframe thead th {\n",
       "        text-align: left;\n",
       "    }\n",
       "\n",
       "    .dataframe tbody tr th {\n",
       "        vertical-align: top;\n",
       "    }\n",
       "</style>\n",
       "<table border=\"1\" class=\"dataframe\">\n",
       "  <thead>\n",
       "    <tr style=\"text-align: right;\">\n",
       "      <th></th>\n",
       "      <th>pk</th>\n",
       "      <th>sociedad</th>\n",
       "      <th>sector</th>\n",
       "      <th>ofvta</th>\n",
       "      <th>cod_cliente</th>\n",
       "      <th>nombre</th>\n",
       "      <th>vendedor</th>\n",
       "      <th>clas_fiscal</th>\n",
       "      <th>pedido</th>\n",
       "      <th>material</th>\n",
       "      <th>...</th>\n",
       "      <th>costo</th>\n",
       "      <th>gr_mat</th>\n",
       "      <th>fecha</th>\n",
       "      <th>fecha_2</th>\n",
       "      <th>ingreso</th>\n",
       "      <th>mesn</th>\n",
       "      <th>dia</th>\n",
       "      <th>mes</th>\n",
       "      <th>año</th>\n",
       "      <th>funica</th>\n",
       "    </tr>\n",
       "  </thead>\n",
       "  <tbody>\n",
       "    <tr>\n",
       "      <th>0</th>\n",
       "      <td>1331712</td>\n",
       "      <td>CC07</td>\n",
       "      <td>S2</td>\n",
       "      <td>G04</td>\n",
       "      <td>150230</td>\n",
       "      <td>M.O.P. DIRECCION DE VIALIDAD</td>\n",
       "      <td>ST</td>\n",
       "      <td>ZF01</td>\n",
       "      <td>CONCEPCION</td>\n",
       "      <td>150897063</td>\n",
       "      <td>...</td>\n",
       "      <td>91.94</td>\n",
       "      <td>NaN</td>\n",
       "      <td>30/10/2015</td>\n",
       "      <td>2015.10.01 00:00:00</td>\n",
       "      <td>136.54</td>\n",
       "      <td>2015-10-01</td>\n",
       "      <td>30</td>\n",
       "      <td>10</td>\n",
       "      <td>2015</td>\n",
       "      <td>201510</td>\n",
       "    </tr>\n",
       "    <tr>\n",
       "      <th>1</th>\n",
       "      <td>1331717</td>\n",
       "      <td>CC07</td>\n",
       "      <td>S2</td>\n",
       "      <td>G92</td>\n",
       "      <td>233597</td>\n",
       "      <td>Maquinarias y Servicios Alianza Lim</td>\n",
       "      <td>ST</td>\n",
       "      <td>ZF01</td>\n",
       "      <td>IQUIQUE</td>\n",
       "      <td>151185911</td>\n",
       "      <td>...</td>\n",
       "      <td>0.00</td>\n",
       "      <td>NaN</td>\n",
       "      <td>30/10/2015</td>\n",
       "      <td>2015.10.01 00:00:00</td>\n",
       "      <td>0.00</td>\n",
       "      <td>2015-10-01</td>\n",
       "      <td>30</td>\n",
       "      <td>10</td>\n",
       "      <td>2015</td>\n",
       "      <td>201510</td>\n",
       "    </tr>\n",
       "    <tr>\n",
       "      <th>2</th>\n",
       "      <td>1331699</td>\n",
       "      <td>CC07</td>\n",
       "      <td>S2</td>\n",
       "      <td>G04</td>\n",
       "      <td>71296</td>\n",
       "      <td>WTY_VOLVO BRASIL</td>\n",
       "      <td>ST</td>\n",
       "      <td>ZF01</td>\n",
       "      <td>CONCEPCION</td>\n",
       "      <td>151004930</td>\n",
       "      <td>...</td>\n",
       "      <td>0.00</td>\n",
       "      <td>NaN</td>\n",
       "      <td>19/10/2015</td>\n",
       "      <td>2015.10.01 00:00:00</td>\n",
       "      <td>0.00</td>\n",
       "      <td>2015-10-01</td>\n",
       "      <td>19</td>\n",
       "      <td>10</td>\n",
       "      <td>2015</td>\n",
       "      <td>201510</td>\n",
       "    </tr>\n",
       "    <tr>\n",
       "      <th>3</th>\n",
       "      <td>1331701</td>\n",
       "      <td>CC07</td>\n",
       "      <td>S2</td>\n",
       "      <td>G10</td>\n",
       "      <td>150262</td>\n",
       "      <td>M.O.P. DIRECCION DE VIALIDAD</td>\n",
       "      <td>ST</td>\n",
       "      <td>ZF01</td>\n",
       "      <td>TALCA</td>\n",
       "      <td>151014216</td>\n",
       "      <td>...</td>\n",
       "      <td>0.00</td>\n",
       "      <td>NaN</td>\n",
       "      <td>30/10/2015</td>\n",
       "      <td>2015.10.01 00:00:00</td>\n",
       "      <td>0.00</td>\n",
       "      <td>2015-10-01</td>\n",
       "      <td>30</td>\n",
       "      <td>10</td>\n",
       "      <td>2015</td>\n",
       "      <td>201510</td>\n",
       "    </tr>\n",
       "    <tr>\n",
       "      <th>4</th>\n",
       "      <td>1331724</td>\n",
       "      <td>CC07</td>\n",
       "      <td>S2</td>\n",
       "      <td>G14</td>\n",
       "      <td>263052</td>\n",
       "      <td>BRANDA SERVICIOS LIMITADA</td>\n",
       "      <td>ST</td>\n",
       "      <td>ZF01</td>\n",
       "      <td>SERENA</td>\n",
       "      <td>150902447</td>\n",
       "      <td>...</td>\n",
       "      <td>152.85</td>\n",
       "      <td>NaN</td>\n",
       "      <td>30/10/2015</td>\n",
       "      <td>2015.10.01 00:00:00</td>\n",
       "      <td>188.04</td>\n",
       "      <td>2015-10-01</td>\n",
       "      <td>30</td>\n",
       "      <td>10</td>\n",
       "      <td>2015</td>\n",
       "      <td>201510</td>\n",
       "    </tr>\n",
       "  </tbody>\n",
       "</table>\n",
       "<p>5 rows × 24 columns</p>\n",
       "</div>"
      ],
      "text/plain": [
       "        pk sociedad sector ofvta cod_cliente  \\\n",
       "0  1331712     CC07     S2   G04      150230   \n",
       "1  1331717     CC07     S2   G92      233597   \n",
       "2  1331699     CC07     S2   G04       71296   \n",
       "3  1331701     CC07     S2   G10      150262   \n",
       "4  1331724     CC07     S2   G14      263052   \n",
       "\n",
       "                                nombre vendedor clas_fiscal      pedido  \\\n",
       "0         M.O.P. DIRECCION DE VIALIDAD       ST        ZF01  CONCEPCION   \n",
       "1  Maquinarias y Servicios Alianza Lim       ST        ZF01     IQUIQUE   \n",
       "2                     WTY_VOLVO BRASIL       ST        ZF01  CONCEPCION   \n",
       "3         M.O.P. DIRECCION DE VIALIDAD       ST        ZF01       TALCA   \n",
       "4            BRANDA SERVICIOS LIMITADA       ST        ZF01      SERENA   \n",
       "\n",
       "    material   ...     costo gr_mat       fecha              fecha_2  ingreso  \\\n",
       "0  150897063   ...     91.94    NaN  30/10/2015  2015.10.01 00:00:00   136.54   \n",
       "1  151185911   ...      0.00    NaN  30/10/2015  2015.10.01 00:00:00     0.00   \n",
       "2  151004930   ...      0.00    NaN  19/10/2015  2015.10.01 00:00:00     0.00   \n",
       "3  151014216   ...      0.00    NaN  30/10/2015  2015.10.01 00:00:00     0.00   \n",
       "4  150902447   ...    152.85    NaN  30/10/2015  2015.10.01 00:00:00   188.04   \n",
       "\n",
       "         mesn dia mes   año  funica  \n",
       "0  2015-10-01  30  10  2015  201510  \n",
       "1  2015-10-01  30  10  2015  201510  \n",
       "2  2015-10-01  19  10  2015  201510  \n",
       "3  2015-10-01  30  10  2015  201510  \n",
       "4  2015-10-01  30  10  2015  201510  \n",
       "\n",
       "[5 rows x 24 columns]"
      ]
     },
     "execution_count": 15,
     "metadata": {},
     "output_type": "execute_result"
    }
   ],
   "source": [
    "#imprimimos las 5 primeras filas del dataframe\n",
    "df.head()"
   ]
  },
  {
   "cell_type": "code",
   "execution_count": 16,
   "metadata": {},
   "outputs": [
    {
     "name": "stdout",
     "output_type": "stream",
     "text": [
      "<class 'pandas.core.frame.DataFrame'>\n",
      "RangeIndex: 149302 entries, 0 to 149301\n",
      "Data columns (total 24 columns):\n",
      "pk             149302 non-null int64\n",
      "sociedad       149302 non-null object\n",
      "sector         149302 non-null object\n",
      "ofvta          149302 non-null object\n",
      "cod_cliente    149302 non-null object\n",
      "nombre         149302 non-null object\n",
      "vendedor       149302 non-null object\n",
      "clas_fiscal    77062 non-null object\n",
      "pedido         149295 non-null object\n",
      "material       149299 non-null object\n",
      "marca          149302 non-null object\n",
      "linea          149302 non-null object\n",
      "linea_o        149302 non-null object\n",
      "id_pedido      143160 non-null object\n",
      "costo          149302 non-null float64\n",
      "gr_mat         144412 non-null object\n",
      "fecha          149302 non-null object\n",
      "fecha_2        149302 non-null object\n",
      "ingreso        149302 non-null float64\n",
      "mesn           149302 non-null object\n",
      "dia            149302 non-null int64\n",
      "mes            149302 non-null int64\n",
      "año            149302 non-null int64\n",
      "funica         149302 non-null int64\n",
      "dtypes: float64(2), int64(5), object(17)\n",
      "memory usage: 27.3+ MB\n"
     ]
    }
   ],
   "source": [
    "#verificamos los tipos de datos\n",
    "df.info()"
   ]
  },
  {
   "cell_type": "code",
   "execution_count": 17,
   "metadata": {
    "collapsed": true
   },
   "outputs": [],
   "source": [
    "#modificamos el formato de las siguientes variables a \"category\" para  ahorrar un poco más de memoria \n",
    "df[['sociedad', 'sector', 'ofvta', 'clas_fiscal', 'marca', 'linea', 'linea_o']]=df[['sociedad', 'sector', 'ofvta', 'clas_fiscal', 'marca', 'linea', 'linea_o']].apply(lambda x: x.astype('category'))\n"
   ]
  },
  {
   "cell_type": "code",
   "execution_count": 18,
   "metadata": {
    "collapsed": true
   },
   "outputs": [],
   "source": [
    "#transformo la fecha a formato date\n",
    "df['Fecha_factura']=pd.to_datetime(df['fecha'], format='%d/%m/%Y')"
   ]
  },
  {
   "cell_type": "code",
   "execution_count": 19,
   "metadata": {
    "collapsed": true
   },
   "outputs": [],
   "source": [
    "#modifico el formato de los ingresos y costos\n",
    "df[['ingreso', 'costo']] = df[['ingreso', 'costo']].apply(lambda x: x.astype(np.int64))"
   ]
  },
  {
   "cell_type": "code",
   "execution_count": 20,
   "metadata": {
    "collapsed": true
   },
   "outputs": [],
   "source": [
    "#elimino los registros con ingreso 0 en las filas (esto es un error del ERP)\n",
    "df=df[df.ingreso != 0.0]"
   ]
  },
  {
   "cell_type": "code",
   "execution_count": 21,
   "metadata": {},
   "outputs": [
    {
     "data": {
      "text/html": [
       "<div>\n",
       "<style>\n",
       "    .dataframe thead tr:only-child th {\n",
       "        text-align: right;\n",
       "    }\n",
       "\n",
       "    .dataframe thead th {\n",
       "        text-align: left;\n",
       "    }\n",
       "\n",
       "    .dataframe tbody tr th {\n",
       "        vertical-align: top;\n",
       "    }\n",
       "</style>\n",
       "<table border=\"1\" class=\"dataframe\">\n",
       "  <thead>\n",
       "    <tr>\n",
       "      <th></th>\n",
       "      <th colspan=\"8\" halign=\"left\">ingreso</th>\n",
       "    </tr>\n",
       "    <tr>\n",
       "      <th></th>\n",
       "      <th>count</th>\n",
       "      <th>mean</th>\n",
       "      <th>std</th>\n",
       "      <th>min</th>\n",
       "      <th>25%</th>\n",
       "      <th>50%</th>\n",
       "      <th>75%</th>\n",
       "      <th>max</th>\n",
       "    </tr>\n",
       "  </thead>\n",
       "  <tbody>\n",
       "    <tr>\n",
       "      <th>2015</th>\n",
       "      <td>36139.0</td>\n",
       "      <td>330.435513</td>\n",
       "      <td>1803.550249</td>\n",
       "      <td>-12579.0</td>\n",
       "      <td>33.0</td>\n",
       "      <td>89.0</td>\n",
       "      <td>253.0</td>\n",
       "      <td>166287.0</td>\n",
       "    </tr>\n",
       "    <tr>\n",
       "      <th>2016</th>\n",
       "      <td>38342.0</td>\n",
       "      <td>328.159851</td>\n",
       "      <td>1288.282513</td>\n",
       "      <td>-11942.0</td>\n",
       "      <td>27.0</td>\n",
       "      <td>88.0</td>\n",
       "      <td>253.0</td>\n",
       "      <td>64582.0</td>\n",
       "    </tr>\n",
       "  </tbody>\n",
       "</table>\n",
       "</div>"
      ],
      "text/plain": [
       "      ingreso                                                               \n",
       "        count        mean          std      min   25%   50%    75%       max\n",
       "2015  36139.0  330.435513  1803.550249 -12579.0  33.0  89.0  253.0  166287.0\n",
       "2016  38342.0  328.159851  1288.282513 -11942.0  27.0  88.0  253.0   64582.0"
      ]
     },
     "execution_count": 21,
     "metadata": {},
     "output_type": "execute_result"
    }
   ],
   "source": [
    "#imprimo estadísticos básicos de venta\n",
    "df[['ingreso']].groupby(lambda x: df['Fecha_factura'][x].year).describe()"
   ]
  },
  {
   "cell_type": "markdown",
   "metadata": {},
   "source": [
    "Estimados que un cliente no debría pasar de seis meses sin comprar repuestos por lo que dividimos el dataframe en dos considerando los movimientos históricos de seis meses y un holdout de seis meses"
   ]
  },
  {
   "cell_type": "code",
   "execution_count": 25,
   "metadata": {
    "collapsed": true
   },
   "outputs": [],
   "source": [
    "#selecciono fecha de la historia y el forecast\n",
    "startDate_history = datetime.strptime('20150301', '%Y%m%d').date()\n",
    "endDate_history=datetime.strptime('20150831', '%Y%m%d').date()\n",
    "\n",
    "startDate_forecast = datetime.strptime('20150901','%Y%m%d').date()\n",
    "endDate_forecast = datetime.strptime('20160229','%Y%m%d').date()"
   ]
  },
  {
   "cell_type": "markdown",
   "metadata": {},
   "source": [
    "## Funciones específicas"
   ]
  },
  {
   "cell_type": "markdown",
   "metadata": {},
   "source": [
    "Creamos algunas funciones que noa ayudaran a realizar operaciones complejas de data wrangling y que nos seviran más adelante"
   ]
  },
  {
   "cell_type": "code",
   "execution_count": 29,
   "metadata": {
    "collapsed": true
   },
   "outputs": [],
   "source": [
    "def getRFM(dataFrame, sDate, eDate): \n",
    "    \"\"\"\n",
    "    Función que calcula la frecuencia, ingreso, la recencia de compra y si utilizó servicio técnico\n",
    "    \"\"\"\n",
    "    #ordeno el dataframe por fecha descendiente\n",
    "    dataFrame=dataFrame.sort_values(by='Fecha_factura', ascending=False)\n",
    "    #filtro los datos segun la fecha histórica y los almaceno en un df temporal\n",
    "    tmpdf=dataFrame[(dataFrame.Fecha_factura >= sDate) & (dataFrame.Fecha_factura <= eDate)]\n",
    "    #elimino filas con los ID duplicados, asigno a una nuevo df modifico el indice para que sea los ID de cliente\n",
    "    newdf=tmpdf.drop_duplicates(['cod_cliente']).set_index(['cod_cliente'])\n",
    "    \n",
    "    #calculo la recencia (días), menores días significa más reciente\n",
    "    newdf['recency']=(eDate-newdf['Fecha_factura']).dt.days\n",
    "    #calculo la frecuencia de compra   \n",
    "    frecuency=tmpdf.groupby(['cod_cliente'] )['cod_cliente'].count()\n",
    "    #join la variable frecuencia con newdf\n",
    "    newdf=newdf.join(frecuency)\n",
    "    #renombro las columnas\n",
    "    newdf=newdf.rename(columns={'cod_cliente': 'frecuency'})\n",
    "    \n",
    "    #calculo el ingreso\n",
    "    monetary=tmpdf.groupby(['cod_cliente'] )[['cod_cliente','ingreso']].sum()    \n",
    "    newdf=newdf.merge(monetary, left_index=True,right_index=True)\n",
    "    newdf=newdf.rename(columns={'ingreso_y': 'monetary'})    \n",
    "    \n",
    "    #calculo si utilizó servicio técnico\n",
    "    tmpdf.is_copy = None\n",
    "    tmpdf['servicio_tecnico']=tmpdf.sector.apply(lambda x: 1 if x=='S2' else 0)  \n",
    "    sector=tmpdf.loc[:, ['cod_cliente','servicio_tecnico']].sort_values(by='servicio_tecnico', ascending=False)\n",
    "    sector=sector.drop_duplicates(['cod_cliente'])\n",
    "    sector=sector.set_index(['cod_cliente'])\n",
    "    newdf=newdf.join(sector)   \n",
    "    \n",
    "    #returno un nuevo df con la recencia, frecuencia, ingreso y st\n",
    "    return newdf"
   ]
  },
  {
   "cell_type": "code",
   "execution_count": 31,
   "metadata": {
    "collapsed": true
   },
   "outputs": [],
   "source": [
    "def plotROC(model, X, y):\n",
    "    \"\"\"\n",
    "    Evalúo la performance del predictor con 5-fold cross-validation y gráfico la media del resultado de la curva ROC\n",
    "    \"\"\"\n",
    "    cv = StratifiedKFold(n_splits=10, shuffle=True)\n",
    "    classifier = model\n",
    "\n",
    "    mean_tpr = 0.0\n",
    "    mean_fpr = np.linspace(0, 1, 100)\n",
    "    all_tpr = []\n",
    "\n",
    "    for train, test in cv.split(X, y):\n",
    "        prob = classifier.fit(X[train], y[train]).predict_proba(X[test])\n",
    "        # calculo la curva de ROC y el AUC\n",
    "        fpr, tpr, thresholds = roc_curve(y[test], prob[:, 1])\n",
    "        mean_tpr += interp(mean_fpr, fpr, tpr)\n",
    "        mean_tpr[0] = 0.0\n",
    "        pred_churn = prob[:, 1]\n",
    "        \n",
    "    # gráfico la curva ROC\n",
    "    mean_tpr /= 10\n",
    "    mean_tpr[-1] = 1.0\n",
    "    mean_auc = auc(mean_fpr, mean_tpr)\n",
    "    plt.plot(mean_fpr, mean_tpr, '-', label='Promedio ROC (area = %0.2f)' % mean_auc, lw=2)\n",
    "\n",
    "    plt.xlim([0, 1.0])\n",
    "    plt.ylim([0, 1.0])\n",
    "    plt.xlabel('Falso positivo')\n",
    "    plt.ylabel('Verdadero positivo')\n",
    "    plt.legend(loc=\"lower right\")\n",
    "    plt.show()\n",
    "    #retorno probabilidad para testing\n",
    "    return pred_churn"
   ]
  },
  {
   "cell_type": "code",
   "execution_count": 32,
   "metadata": {
    "collapsed": true
   },
   "outputs": [],
   "source": [
    "def classification_report_with_accuracy_score(y_true, y_pred):\n",
    "    \"\"\"\n",
    "    función que entrega el accuracy\n",
    "    \"\"\"\n",
    "    originalclass.extend(y_true)\n",
    "    predictedclass.extend(y_pred)\n",
    "    \n",
    "    return accuracy_score(y_true, y_pred)"
   ]
  },
  {
   "cell_type": "code",
   "execution_count": 34,
   "metadata": {
    "collapsed": true
   },
   "outputs": [],
   "source": [
    "def ChurnModel(history, model, X, y):\n",
    "    \"\"\"\n",
    "    Cálculo la tasa de cancelación de clientes y su perdida\n",
    "    \"\"\"\n",
    "    # modelo\n",
    "    clf = model\n",
    "    clf = clf.fit(X,y)\n",
    "    churn_prob = clf.predict_proba(X)\n",
    "    history['churn_prob'] = churn_prob[:,1]\n",
    "    \n",
    "    # calculo la perdida\n",
    "    history['expected_loss'] = history['churn_prob'] * history['monetary']\n",
    "   \n",
    "    \n",
    "    # retorno un df con la probabilidad, y la expectativa de perdida\n",
    "    return history"
   ]
  },
  {
   "cell_type": "code",
   "execution_count": 36,
   "metadata": {
    "collapsed": true
   },
   "outputs": [],
   "source": [
    "#llamamos a la función getrfm\n",
    "historia=getRFM(df, startDate_history, endDate_history)\n",
    "pronostico=getRFM(df, startDate_forecast, endDate_forecast)"
   ]
  },
  {
   "cell_type": "markdown",
   "metadata": {},
   "source": [
    "Construimos nuestra variable a predecir"
   ]
  },
  {
   "cell_type": "code",
   "execution_count": 38,
   "metadata": {
    "collapsed": true
   },
   "outputs": [],
   "source": [
    "#nueva variable de compra, será la variable a predecir\n",
    "historia['buy']=0\n",
    "#Encuentro aquellos que volvieron a comprar en el pronóstico\n",
    "historia['buy']=historia.index.isin(pronostico.index)\n",
    "historia['buy']=historia['buy'].astype(int)"
   ]
  },
  {
   "cell_type": "code",
   "execution_count": 40,
   "metadata": {},
   "outputs": [
    {
     "name": "stdout",
     "output_type": "stream",
     "text": [
      "col_0  count\n",
      "buy         \n",
      "0        319\n",
      "1        585\n"
     ]
    }
   ],
   "source": [
    "#proporción de los clientes que compran\n",
    "compra_tab=pd.crosstab(historia['buy'], columns='count')\n",
    "print(compra_tab)"
   ]
  },
  {
   "cell_type": "code",
   "execution_count": 42,
   "metadata": {},
   "outputs": [
    {
     "name": "stdout",
     "output_type": "stream",
     "text": [
      "col_0     count\n",
      "buy            \n",
      "0      0.352876\n",
      "1      0.647124\n"
     ]
    }
   ],
   "source": [
    "#proporción de la variable compra\n",
    "print(compra_tab/compra_tab.sum()) "
   ]
  },
  {
   "cell_type": "markdown",
   "metadata": {},
   "source": [
    "## Análisis exploratorio"
   ]
  },
  {
   "cell_type": "markdown",
   "metadata": {},
   "source": [
    "Realizamos un análisis exploratorio gráficando las variables para ver si tienen outlaiers, que es lo más seguro especialmente en los clientes con grandes flotas de equipos"
   ]
  },
  {
   "cell_type": "code",
   "execution_count": 58,
   "metadata": {},
   "outputs": [
    {
     "data": {
      "text/html": [
       "<div>\n",
       "<style>\n",
       "    .dataframe thead tr:only-child th {\n",
       "        text-align: right;\n",
       "    }\n",
       "\n",
       "    .dataframe thead th {\n",
       "        text-align: left;\n",
       "    }\n",
       "\n",
       "    .dataframe tbody tr th {\n",
       "        vertical-align: top;\n",
       "    }\n",
       "</style>\n",
       "<table border=\"1\" class=\"dataframe\">\n",
       "  <thead>\n",
       "    <tr style=\"text-align: right;\">\n",
       "      <th></th>\n",
       "      <th>recency</th>\n",
       "      <th>frecuency</th>\n",
       "      <th>monetary</th>\n",
       "      <th>buy</th>\n",
       "    </tr>\n",
       "  </thead>\n",
       "  <tbody>\n",
       "    <tr>\n",
       "      <th>count</th>\n",
       "      <td>904.000000</td>\n",
       "      <td>904.000000</td>\n",
       "      <td>904.000000</td>\n",
       "      <td>904.000000</td>\n",
       "    </tr>\n",
       "    <tr>\n",
       "      <th>mean</th>\n",
       "      <td>57.429204</td>\n",
       "      <td>20.702434</td>\n",
       "      <td>7099.228982</td>\n",
       "      <td>0.647124</td>\n",
       "    </tr>\n",
       "    <tr>\n",
       "      <th>std</th>\n",
       "      <td>51.489846</td>\n",
       "      <td>75.760836</td>\n",
       "      <td>33055.987565</td>\n",
       "      <td>0.478129</td>\n",
       "    </tr>\n",
       "    <tr>\n",
       "      <th>min</th>\n",
       "      <td>0.000000</td>\n",
       "      <td>1.000000</td>\n",
       "      <td>-603.000000</td>\n",
       "      <td>0.000000</td>\n",
       "    </tr>\n",
       "    <tr>\n",
       "      <th>25%</th>\n",
       "      <td>12.000000</td>\n",
       "      <td>2.000000</td>\n",
       "      <td>233.500000</td>\n",
       "      <td>0.000000</td>\n",
       "    </tr>\n",
       "    <tr>\n",
       "      <th>50%</th>\n",
       "      <td>41.500000</td>\n",
       "      <td>5.000000</td>\n",
       "      <td>643.000000</td>\n",
       "      <td>1.000000</td>\n",
       "    </tr>\n",
       "    <tr>\n",
       "      <th>75%</th>\n",
       "      <td>95.000000</td>\n",
       "      <td>13.000000</td>\n",
       "      <td>2526.250000</td>\n",
       "      <td>1.000000</td>\n",
       "    </tr>\n",
       "    <tr>\n",
       "      <th>max</th>\n",
       "      <td>182.000000</td>\n",
       "      <td>1487.000000</td>\n",
       "      <td>542620.000000</td>\n",
       "      <td>1.000000</td>\n",
       "    </tr>\n",
       "  </tbody>\n",
       "</table>\n",
       "</div>"
      ],
      "text/plain": [
       "          recency    frecuency       monetary         buy\n",
       "count  904.000000   904.000000     904.000000  904.000000\n",
       "mean    57.429204    20.702434    7099.228982    0.647124\n",
       "std     51.489846    75.760836   33055.987565    0.478129\n",
       "min      0.000000     1.000000    -603.000000    0.000000\n",
       "25%     12.000000     2.000000     233.500000    0.000000\n",
       "50%     41.500000     5.000000     643.000000    1.000000\n",
       "75%     95.000000    13.000000    2526.250000    1.000000\n",
       "max    182.000000  1487.000000  542620.000000    1.000000"
      ]
     },
     "execution_count": 58,
     "metadata": {},
     "output_type": "execute_result"
    }
   ],
   "source": [
    "#estadísticos básicos de mis variables\n",
    "historia[['recency', 'frecuency', 'monetary', 'buy']].describe()"
   ]
  },
  {
   "cell_type": "code",
   "execution_count": 49,
   "metadata": {},
   "outputs": [
    {
     "data": {
      "text/plain": [
       "<matplotlib.text.Text at 0xc8be080>"
      ]
     },
     "execution_count": 49,
     "metadata": {},
     "output_type": "execute_result"
    },
    {
     "data": {
      "image/png": "[encoded data removed]",
      "text/plain": [
       "<matplotlib.figure.Figure at 0xc6dafd0>"
      ]
     },
     "metadata": {},
     "output_type": "display_data"
    }
   ],
   "source": [
    "%matplotlib inline\n",
    "\n",
    "#boxplot recency\n",
    "plt.boxplot(historia['recency'])\n",
    "plt.title('Boxplot recency')\n",
    "plt.ylabel('recency')"
   ]
  },
  {
   "cell_type": "code",
   "execution_count": 64,
   "metadata": {},
   "outputs": [
    {
     "data": {
      "image/png": "[encoded data removed]",
      "text/plain": [
       "<matplotlib.figure.Figure at 0xd11dd68>"
      ]
     },
     "metadata": {},
     "output_type": "display_data"
    }
   ],
   "source": [
    "#gráfico frecuencia\n",
    "plt.figure(1)\n",
    "plt.subplot(2, 1, 1)\n",
    "plt.boxplot(historia['frecuency'], 0, 'gD')\n",
    "plt.title('Boxplot frecuencia')\n",
    "plt.ylabel('Frecuencia compra')\n",
    "\n",
    "plt.subplot(2, 1, 2)\n",
    "sns.kdeplot(historia['frecuency'])\n",
    "plt.title(\"Frecuencia\") \n",
    "plt.ylabel('%')\n",
    "plt.xlabel('frecuencia')\n",
    "plt.show()"
   ]
  },
  {
   "cell_type": "code",
   "execution_count": null,
   "metadata": {
    "collapsed": true
   },
   "outputs": [],
   "source": []
  },
  {
   "cell_type": "code",
   "execution_count": 65,
   "metadata": {},
   "outputs": [
    {
     "data": {
      "image/png": "[encoded data removed]",
      "text/plain": [
       "<matplotlib.figure.Figure at 0xcaffcf8>"
      ]
     },
     "metadata": {},
     "output_type": "display_data"
    }
   ],
   "source": [
    "#gráfico monetary\n",
    "plt.subplot(2, 1, 1)\n",
    "plt.boxplot(historia['monetary'], 0, 'gD')\n",
    "plt.title('Boxplot monetary')\n",
    "plt.ylabel('Ingreso')\n",
    "\n",
    "plt.subplot(2, 1, 2)\n",
    "sns.kdeplot(historia['monetary'])\n",
    "plt.title(\"Ingreso\") \n",
    "plt.ylabel('%')\n",
    "plt.xlabel('ingreso')\n",
    "plt.show()\n"
   ]
  },
  {
   "cell_type": "markdown",
   "metadata": {},
   "source": [
    "## Construyendo el modelo predictivo"
   ]
  },
  {
   "cell_type": "markdown",
   "metadata": {},
   "source": [
    "Comenzamos a construir nuestro modelo comparando modelos de caja blanca y caja negra, revisando cual entrega los mejores resultados. los modelos que utilizaremos serán regresión logística, máquinas de soporte vectorial y bosques aleatorios."
   ]
  },
  {
   "cell_type": "code",
   "execution_count": 67,
   "metadata": {
    "collapsed": true
   },
   "outputs": [],
   "source": [
    "#selecciono las variables para construir el modelo\n",
    "X=historia.loc[:, ['recency', 'frecuency', 'monetary', 'servicio_tecnico']]\n",
    "y=historia.loc[:, 'buy']"
   ]
  },
  {
   "cell_type": "code",
   "execution_count": 70,
   "metadata": {
    "collapsed": true
   },
   "outputs": [],
   "source": [
    "#estandarizo las variables\n",
    "seed = 10\n",
    "scaler = StandardScaler()\n",
    "scaler.fit(X)\n",
    "X = scaler.transform(X)"
   ]
  },
  {
   "cell_type": "code",
   "execution_count": 73,
   "metadata": {
    "collapsed": true
   },
   "outputs": [],
   "source": [
    "#preparo los modelos\n",
    "param_grid_rf ={ 'n_estimators': [200, 700], 'max_features': ['auto', 'sqrt', 'log2'],'max_depth' : [None, 10,20]\n",
    "    }\n",
    "\n",
    "param_grid_svm = {'kernel':('linear', 'rbf'), 'C':[1,2,3,4,5,6,7,8,9,10], 'gamma': \n",
    "              [0.01,0.02,0.03,0.04,0.05,0.10,0.2,0.3,0.4,0.5]\n",
    "              }\n",
    "    \n",
    "param_grid_lr = {'C': [0.001, 0.01, 0.1, 1, 10, 100, 1000] }\n",
    "    "
   ]
  },
  {
   "cell_type": "code",
   "execution_count": 74,
   "metadata": {},
   "outputs": [
    {
     "name": "stdout",
     "output_type": "stream",
     "text": [
      "{'n_estimators': 200, 'max_features': 'sqrt', 'max_depth': 10}\n"
     ]
    }
   ],
   "source": [
    "#seleccionamos el mejor parámetro para los bosques aleatorios\n",
    "rf=RandomForestClassifier()\n",
    "estimacion_rf = RandomizedSearchCV(estimator=rf, param_distributions=param_grid_rf, cv= 5)\n",
    "estimacion_rf.fit(X, y)\n",
    "print (estimacion_rf.best_params_)\n"
   ]
  },
  {
   "cell_type": "code",
   "execution_count": 77,
   "metadata": {},
   "outputs": [
    {
     "name": "stdout",
     "output_type": "stream",
     "text": [
      "{'kernel': 'linear', 'gamma': 0.3, 'C': 6}\n"
     ]
    }
   ],
   "source": [
    "#seleccionamos el mejor parámetro para svm\n",
    "sv=SVC()\n",
    "estimacion_svm = RandomizedSearchCV(estimator=sv, param_distributions=param_grid_svm, cv= 5)\n",
    "estimacion_svm.fit(X, y)\n",
    "print (estimacion_svm.best_params_)"
   ]
  },
  {
   "cell_type": "code",
   "execution_count": 79,
   "metadata": {},
   "outputs": [
    {
     "name": "stdout",
     "output_type": "stream",
     "text": [
      "{'C': 0.001}\n"
     ]
    }
   ],
   "source": [
    "#seleccionamos el mejor parámetro para regresión logística\n",
    "lr=LogisticRegression()\n",
    "estimacion_lr = RandomizedSearchCV(estimator=lr, n_iter=7,  param_distributions=param_grid_lr, cv= 5)\n",
    "estimacion_lr.fit(X, y)\n",
    "print (estimacion_lr.best_params_)"
   ]
  },
  {
   "cell_type": "code",
   "execution_count": 81,
   "metadata": {
    "collapsed": true
   },
   "outputs": [],
   "source": [
    "#guardo los modelos\n",
    "modelos = []\n",
    "modelos.append(('LR', LogisticRegression(C=0.001)))\n",
    "modelos.append(('SVC', SVC(kernel= 'linear', gamma= 0.1, C= 10)))\n",
    "modelos.append(('RF', RandomForestClassifier(n_estimators= 200, max_features= 'sqrt', max_depth= 10)))"
   ]
  },
  {
   "cell_type": "code",
   "execution_count": 83,
   "metadata": {},
   "outputs": [
    {
     "name": "stdout",
     "output_type": "stream",
     "text": [
      "LR 0.703835 (0.004365)\n",
      "SVC 0.713274 (0.006861)\n",
      "RF 0.691740 (0.015200)\n"
     ]
    }
   ],
   "source": [
    "#evalúo el modelo\n",
    "\n",
    "resultados=[]\n",
    "nombres=[]\n",
    "scoring = 'accuracy'\n",
    "originalclass = []\n",
    "predictedclass = []\n",
    "\n",
    "for nombre, modelo in modelos:\n",
    "    shuffle_split = ShuffleSplit(test_size=.75, train_size=.25, n_splits=10, random_state=seed)\n",
    "    cv_resultados = cross_val_score(modelo, X, y, cv=shuffle_split, scoring=make_scorer(classification_report_with_accuracy_score))\n",
    "    resultados.append(cv_resultados)\n",
    "    nombres.append(nombre)\n",
    "    msg = (\"%s %f (%f)\" % (nombre, cv_resultados.mean(), cv_resultados.std()))\n",
    "    print(msg)"
   ]
  },
  {
   "cell_type": "code",
   "execution_count": 88,
   "metadata": {},
   "outputs": [
    {
     "data": {
      "image/png": "[encoded data removed]",
      "text/plain": [
       "<matplotlib.figure.Figure at 0xcf7db00>"
      ]
     },
     "metadata": {},
     "output_type": "display_data"
    }
   ],
   "source": [
    "#graficamos el acuracy en los 10 k fold-cross validation\n",
    "plt.plot(resultados[0], label='Regresion logística')\n",
    "plt.plot(resultados[1], label='SVC')\n",
    "plt.plot(resultados[2], label='Bosques aleatorios')\n",
    "plt.ylabel('Accuray')\n",
    "plt.xlabel('N Fold')\n",
    "plt.legend(loc=3)\n",
    "plt.show()"
   ]
  },
  {
   "cell_type": "code",
   "execution_count": 90,
   "metadata": {},
   "outputs": [
    {
     "data": {
      "image/png": "[encoded data removed]",
      "text/plain": [
       "<matplotlib.figure.Figure at 0xc964a90>"
      ]
     },
     "metadata": {},
     "output_type": "display_data"
    }
   ],
   "source": [
    "#graficamos los resultados de los tres modelos\n",
    "fig = plt.figure()\n",
    "fig.suptitle('Comparación de algoritmos')\n",
    "ax = fig.add_subplot(111)\n",
    "plt.ylabel('Accuray')\n",
    "plt.boxplot(resultados)\n",
    "ax.set_xticklabels(nombres)\n",
    "plt.show()"
   ]
  },
  {
   "cell_type": "markdown",
   "metadata": {},
   "source": [
    "los mejores resultados los entrega el modelo de SVM, con el que trabajaremos la parte final del modelo"
   ]
  }
 ],
 "metadata": {
  "kernelspec": {
   "display_name": "Python 3",
   "language": "python",
   "name": "python3"
  },
  "language_info": {
   "codemirror_mode": {
    "name": "ipython",
    "version": 3
   },
   "file_extension": ".py",
   "mimetype": "text/x-python",
   "name": "python",
   "nbconvert_exporter": "python",
   "pygments_lexer": "ipython3",
   "version": "3.6.0"
  }
 },
 "nbformat": 4,
 "nbformat_minor": 2
}
